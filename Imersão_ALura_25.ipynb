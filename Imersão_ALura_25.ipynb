{
  "nbformat": 4,
  "nbformat_minor": 0,
  "metadata": {
    "colab": {
      "provenance": [],
      "authorship_tag": "ABX9TyPMw8z2K8d+Yrcw4kCLqvG+",
      "include_colab_link": true
    },
    "kernelspec": {
      "name": "python3",
      "display_name": "Python 3"
    },
    "language_info": {
      "name": "python"
    }
  },
  "cells": [
    {
      "cell_type": "markdown",
      "metadata": {
        "id": "view-in-github",
        "colab_type": "text"
      },
      "source": [
        "<a href=\"https://colab.research.google.com/github/FabioLo464/Imers-o-Alura-AI-25/blob/main/Imers%C3%A3o_ALura_25.ipynb\" target=\"_parent\"><img src=\"https://colab.research.google.com/assets/colab-badge.svg\" alt=\"Open In Colab\"/></a>"
      ]
    },
    {
      "cell_type": "code",
      "execution_count": 146,
      "metadata": {
        "colab": {
          "base_uri": "https://localhost:8080/"
        },
        "id": "R9I6QaEclMjH",
        "outputId": "15ea8a8f-80cc-42ae-81e2-b628d250026e",
        "collapsed": true
      },
      "outputs": [
        {
          "output_type": "stream",
          "name": "stdout",
          "text": [
            "Requirement already satisfied: google-genai in /usr/local/lib/python3.11/dist-packages (1.15.0)\n",
            "Requirement already satisfied: anyio<5.0.0,>=4.8.0 in /usr/local/lib/python3.11/dist-packages (from google-genai) (4.9.0)\n",
            "Requirement already satisfied: google-auth<3.0.0,>=2.14.1 in /usr/local/lib/python3.11/dist-packages (from google-genai) (2.38.0)\n",
            "Requirement already satisfied: httpx<1.0.0,>=0.28.1 in /usr/local/lib/python3.11/dist-packages (from google-genai) (0.28.1)\n",
            "Requirement already satisfied: pydantic<3.0.0,>=2.0.0 in /usr/local/lib/python3.11/dist-packages (from google-genai) (2.11.4)\n",
            "Requirement already satisfied: requests<3.0.0,>=2.28.1 in /usr/local/lib/python3.11/dist-packages (from google-genai) (2.32.3)\n",
            "Requirement already satisfied: websockets<15.1.0,>=13.0.0 in /usr/local/lib/python3.11/dist-packages (from google-genai) (15.0.1)\n",
            "Requirement already satisfied: typing-extensions<5.0.0,>=4.11.0 in /usr/local/lib/python3.11/dist-packages (from google-genai) (4.13.2)\n",
            "Requirement already satisfied: idna>=2.8 in /usr/local/lib/python3.11/dist-packages (from anyio<5.0.0,>=4.8.0->google-genai) (3.10)\n",
            "Requirement already satisfied: sniffio>=1.1 in /usr/local/lib/python3.11/dist-packages (from anyio<5.0.0,>=4.8.0->google-genai) (1.3.1)\n",
            "Requirement already satisfied: cachetools<6.0,>=2.0.0 in /usr/local/lib/python3.11/dist-packages (from google-auth<3.0.0,>=2.14.1->google-genai) (5.5.2)\n",
            "Requirement already satisfied: pyasn1-modules>=0.2.1 in /usr/local/lib/python3.11/dist-packages (from google-auth<3.0.0,>=2.14.1->google-genai) (0.4.2)\n",
            "Requirement already satisfied: rsa<5,>=3.1.4 in /usr/local/lib/python3.11/dist-packages (from google-auth<3.0.0,>=2.14.1->google-genai) (4.9.1)\n",
            "Requirement already satisfied: certifi in /usr/local/lib/python3.11/dist-packages (from httpx<1.0.0,>=0.28.1->google-genai) (2025.4.26)\n",
            "Requirement already satisfied: httpcore==1.* in /usr/local/lib/python3.11/dist-packages (from httpx<1.0.0,>=0.28.1->google-genai) (1.0.9)\n",
            "Requirement already satisfied: h11>=0.16 in /usr/local/lib/python3.11/dist-packages (from httpcore==1.*->httpx<1.0.0,>=0.28.1->google-genai) (0.16.0)\n",
            "Requirement already satisfied: annotated-types>=0.6.0 in /usr/local/lib/python3.11/dist-packages (from pydantic<3.0.0,>=2.0.0->google-genai) (0.7.0)\n",
            "Requirement already satisfied: pydantic-core==2.33.2 in /usr/local/lib/python3.11/dist-packages (from pydantic<3.0.0,>=2.0.0->google-genai) (2.33.2)\n",
            "Requirement already satisfied: typing-inspection>=0.4.0 in /usr/local/lib/python3.11/dist-packages (from pydantic<3.0.0,>=2.0.0->google-genai) (0.4.0)\n",
            "Requirement already satisfied: charset-normalizer<4,>=2 in /usr/local/lib/python3.11/dist-packages (from requests<3.0.0,>=2.28.1->google-genai) (3.4.2)\n",
            "Requirement already satisfied: urllib3<3,>=1.21.1 in /usr/local/lib/python3.11/dist-packages (from requests<3.0.0,>=2.28.1->google-genai) (2.4.0)\n",
            "Requirement already satisfied: pyasn1<0.7.0,>=0.6.1 in /usr/local/lib/python3.11/dist-packages (from pyasn1-modules>=0.2.1->google-auth<3.0.0,>=2.14.1->google-genai) (0.6.1)\n"
          ]
        }
      ],
      "source": [
        "!pip install google-genai"
      ]
    },
    {
      "cell_type": "code",
      "source": [
        "#instalação do framework do google adk\n",
        "!pip install -q google-adk"
      ],
      "metadata": {
        "collapsed": true,
        "id": "AXwZTSZ8bx4w"
      },
      "execution_count": 147,
      "outputs": []
    },
    {
      "cell_type": "code",
      "source": [
        "import os\n",
        "from google.colab import userdata\n",
        "\n",
        "os.environ[\"GOOGLE_API_KEY\"] = userdata.get('GOOGLE_API_KEY')\n"
      ],
      "metadata": {
        "id": "LPqRTwf5lUrV"
      },
      "execution_count": 148,
      "outputs": []
    },
    {
      "cell_type": "code",
      "source": [
        "from google import genai\n",
        "\n",
        "client = genai.Client()"
      ],
      "metadata": {
        "id": "_S58u5FAmAig"
      },
      "execution_count": 149,
      "outputs": []
    },
    {
      "cell_type": "code",
      "source": [
        "from google.adk.agents import Agent\n",
        "from google.adk.runners import Runner\n",
        "from google.adk.sessions import InMemorySessionService\n",
        "from google.adk.tools import google_search\n",
        "from google.genai import types #para criar conteudos\n",
        "from datetime import date\n",
        "import textwrap # Pra formatar melhor a saida de texto\n",
        "from IPython.display import display, Markdown # Para exibir texto em formatado do colab\n",
        "import requests #para fazer requisições HTTP\n",
        "import warnings\n",
        "\n",
        "warnings.filterwarnings(\"ignore\")"
      ],
      "metadata": {
        "id": "-a6xVIlickQd"
      },
      "execution_count": 150,
      "outputs": []
    },
    {
      "cell_type": "code",
      "source": [
        "for model in client.models.list():\n",
        "  print(model.name)"
      ],
      "metadata": {
        "colab": {
          "base_uri": "https://localhost:8080/"
        },
        "id": "z9TLW9TEmUmx",
        "outputId": "32ff6618-42df-469e-f990-ed4b135fae64",
        "collapsed": true
      },
      "execution_count": 151,
      "outputs": [
        {
          "output_type": "stream",
          "name": "stdout",
          "text": [
            "models/chat-bison-001\n",
            "models/text-bison-001\n",
            "models/embedding-gecko-001\n",
            "models/gemini-1.0-pro-vision-latest\n",
            "models/gemini-pro-vision\n",
            "models/gemini-1.5-pro-latest\n",
            "models/gemini-1.5-pro-001\n",
            "models/gemini-1.5-pro-002\n",
            "models/gemini-1.5-pro\n",
            "models/gemini-1.5-flash-latest\n",
            "models/gemini-1.5-flash-001\n",
            "models/gemini-1.5-flash-001-tuning\n",
            "models/gemini-1.5-flash\n",
            "models/gemini-1.5-flash-002\n",
            "models/gemini-1.5-flash-8b\n",
            "models/gemini-1.5-flash-8b-001\n",
            "models/gemini-1.5-flash-8b-latest\n",
            "models/gemini-1.5-flash-8b-exp-0827\n",
            "models/gemini-1.5-flash-8b-exp-0924\n",
            "models/gemini-2.5-pro-exp-03-25\n",
            "models/gemini-2.5-pro-preview-03-25\n",
            "models/gemini-2.5-flash-preview-04-17\n",
            "models/gemini-2.5-flash-preview-04-17-thinking\n",
            "models/gemini-2.5-pro-preview-05-06\n",
            "models/gemini-2.0-flash-exp\n",
            "models/gemini-2.0-flash\n",
            "models/gemini-2.0-flash-001\n",
            "models/gemini-2.0-flash-exp-image-generation\n",
            "models/gemini-2.0-flash-lite-001\n",
            "models/gemini-2.0-flash-lite\n",
            "models/gemini-2.0-flash-preview-image-generation\n",
            "models/gemini-2.0-flash-lite-preview-02-05\n",
            "models/gemini-2.0-flash-lite-preview\n",
            "models/gemini-2.0-pro-exp\n",
            "models/gemini-2.0-pro-exp-02-05\n",
            "models/gemini-exp-1206\n",
            "models/gemini-2.0-flash-thinking-exp-01-21\n",
            "models/gemini-2.0-flash-thinking-exp\n",
            "models/gemini-2.0-flash-thinking-exp-1219\n",
            "models/learnlm-2.0-flash-experimental\n",
            "models/gemma-3-1b-it\n",
            "models/gemma-3-4b-it\n",
            "models/gemma-3-12b-it\n",
            "models/gemma-3-27b-it\n",
            "models/embedding-001\n",
            "models/text-embedding-004\n",
            "models/gemini-embedding-exp-03-07\n",
            "models/gemini-embedding-exp\n",
            "models/aqa\n",
            "models/imagen-3.0-generate-002\n",
            "models/gemini-2.0-flash-live-001\n"
          ]
        }
      ]
    },
    {
      "cell_type": "code",
      "source": [
        "def call_agent(agent: Agent, message_text) -> str:\n",
        "  # Cria um serviço de sessão em memória\n",
        "  session_service = InMemorySessionService()\n",
        "\n",
        "  # Cria uma nova sessão\n",
        "  session = session_service.create_session(app_name=agent.name, user_id=\"user1\", session_id=\"session1\")\n",
        "\n",
        "  # Criar um Runner para o agente\n",
        "  runner = Runner(agent=agent, app_name=agent.name, session_service=session_service)\n",
        "  # Cria o conteúdo da mensagem de entrada\n",
        "  content = types.Content(role=\"user\", parts=[types.Part(text=message_text)])\n",
        "\n",
        "  final_response = \"\"\n",
        "  #Itera assincronamente pelos eventos retornados durante a execução do agente\n",
        "  for event in runner.run(user_id=\"user1\", session_id=\"session1\", new_message=content):\n",
        "    if event.is_final_response():\n",
        "     for part in event.content.parts:\n",
        "       final_response += part.text\n",
        "  return final_response\n"
      ],
      "metadata": {
        "id": "Lp86h70Xe6Kd"
      },
      "execution_count": 152,
      "outputs": []
    },
    {
      "cell_type": "code",
      "source": [
        "# Função auxiliar para exibir texto em formato em Markdown no colab\n",
        "# Função auxiliar para exibir texto em formato em Markdown no colab\n",
        "def to_markdown(text):\n",
        "    text = text.replace('*', '  *')\n",
        "    return Markdown(textwrap.indent(text, '>', predicate=lambda _: True))"
      ],
      "metadata": {
        "id": "Zk7sMu1vitsl"
      },
      "execution_count": 153,
      "outputs": []
    },
    {
      "cell_type": "code",
      "source": [
        "def apresentar_quiz_gemini():\n",
        "    try:\n",
        "        prompt_geracao_quiz = \"Gere uma pergunta de múltipla escolha sobre um tópico de cibersegurança. Inclua a pergunta, quatro opções de resposta (a, b, c, d) e indique qual é a resposta correta, juntamente com uma breve explicação.\"\n",
        "        resposta_gemini = chat.send_message(prompt_geracao_quiz)\n",
        "        print(\"\\n--- Resposta Bruta do Gemini para o Quiz (Simplificado) ---\\n\")\n",
        "        print(resposta_gemini.text)\n",
        "        print(\"\\n-----------------------------------------------------------\\n\")\n",
        "    except Exception as e:\n",
        "        print(f\"Erro ao tentar obter resposta do Gemini para o quiz (simplificado): {e}\")"
      ],
      "metadata": {
        "id": "RcpJ__0i_0DV"
      },
      "execution_count": 219,
      "outputs": []
    },
    {
      "cell_type": "code",
      "source": [
        "# Agente 0 Boas Vindas\n",
        "def agente_boas_vindas():\n",
        "    boas_vindas_agente = Agent(\n",
        "        name=\"agente_boas_vindas\",\n",
        "        model=\"gemini-2.0-flash\",\n",
        "        description='Agente para dar as boas-vindas ao usuário e engajá-lo.',\n",
        "        instruction=\"\"\"\n",
        "        Você é um assistente amigável e especializado em cibersegurança. E o seu nome é ClaritySec. Sua tarefa é dar as boas-vindas ao usuário,\n",
        "        informá-lo brevemente sobre sua capacidade de fornecer informações sobre diversos tópicos de cibersegurança\n",
        "        e incentivá-lo a iniciar uma conversa.\n",
        "\n",
        "        Comece com uma saudação calorosa. Em seguida, mencione alguns exemplos de tópicos sobre os quais você pode\n",
        "        fornecer informações, como \"phishing\", \"malware\", \"ransomware\", \"segurança de redes\" ou \"proteção de dados\".\n",
        "\n",
        "        Finalmente, faça uma pergunta aberta para encorajar o usuário a escolher um tópico. Por exemplo:\n",
        "        'Olá! Bem-vindo ao seu especialista em cibersegurança. Posso te ajudar com informações sobre tópicos como phishing,\n",
        "        malware, segurança de redes e muito mais. Sobre qual área de cibersegurança você gostaria de saber mais hoje?'\n",
        "        \"\"\"\n",
        "    )\n",
        "    return call_agent(boas_vindas_agente, \"Iniciar conversa.\")"
      ],
      "metadata": {
        "id": "zTIM8O4wjqr2"
      },
      "execution_count": 213,
      "outputs": []
    },
    {
      "cell_type": "code",
      "source": [
        "# 1 - Agente buscador\n",
        "\n",
        "def agente_buscador(topico):\n",
        "    buscador = Agent(\n",
        "        name=\"agente_buscador\",\n",
        "        model=\"gemini-2.0-flash\",\n",
        "        description='Agente que busca informacoes no Google',\n",
        "        tools=[google_search],\n",
        "        instruction=\"\"\"\n",
        "       Você é um agente buscador de conteúdo especializado em cibersegurança.\n",
        "       Sua tarefa é usar a ferramenta de busca do Google (google_search) para encontrar as últimas notícias e informações relevantes sobre o tópico de cibersegurança fornecido pelo usuário.\n",
        "       Ao realizar a busca, priorize fontes confiáveis e reconhecidas na comunidade científica e na indústria de cibersegurança.\n",
        "       Tente se concentrar nos 3 a 5 resultados mais relevantes e recentes. Na sua resposta, forneça um breve resumo das principais informações encontradas e, se disponível,\n",
        "       mencione a fonte da informação e a data de publicação. Adapte sua busca para corresponder especificamente à pergunta do usuário, utilizando palavras-chave relevantes como \"vulnerabilidade\", \"exploit\", \"ataque\", \"prevenção\", \"detecção\", quando apropriado.\n",
        "        \"\"\"\n",
        "    )\n",
        "\n",
        "    entrada_do_agente_buscador = f\"Tópico:{topico}\"\n",
        "    resultado_buscador = call_agent(buscador, entrada_do_agente_buscador)\n",
        "    return resultado_buscador"
      ],
      "metadata": {
        "id": "Jzm5KpR7n3ig"
      },
      "execution_count": 214,
      "outputs": []
    },
    {
      "cell_type": "code",
      "source": [
        "# 2 - Agente planejador\n",
        "\n",
        "def agente_planejador(topico, resultado_buscador):\n",
        "    planejador = Agent(\n",
        "        name=\"agente_planejador\",\n",
        "        model=\"gemini-2.0-flash\",\n",
        "        description='Agente que faz a triagem de conteúdos encontrados',\n",
        "        instruction=\"\"\"\n",
        "        Você é um especialista em cibersegurança com a tarefa de analisar o conteúdo retornado pelo agente buscador sobre o tópico fornecido pelo usuário. Seu objetivo principal é selecionar as informações mais relevantes, precisas e úteis para o usuário.\n",
        "        Ao fazer a triagem, priorize conteúdos que tenham relação direta com o tópico, que apresentem informações detalhadas e com profundidade adequada, e que provenham de fontes confiáveis e atuais.\n",
        "        Se o conteúdo inicial for superficial ou não abordar completamente a pergunta do usuário, você pode utilizar a ferramenta de busca para buscar informações mais específicas ou para aprofundar aspectos particulares do tema.\n",
        "        Identifique os principais pontos e conceitos presentes no conteúdo selecionado e organize-os de forma lógica para facilitar a compreensão e a redação por parte do próximo agente.\n",
        "        Se houver diferentes perspectivas ou abordagens sobre o tópico, tente incluir conteúdo que as represente de forma equilibrada.\n",
        "        \"\"\"\n",
        "    )\n",
        "\n",
        "    entrada_do_agente_planejador = f\"Tópico:{topico}\\nConteúdo buscado: {resultado_buscador}\"\n",
        "    plano_gerado = call_agent(planejador, entrada_do_agente_planejador)\n",
        "    return plano_gerado"
      ],
      "metadata": {
        "id": "54_7qFxUzqFd"
      },
      "execution_count": 215,
      "outputs": []
    },
    {
      "cell_type": "code",
      "source": [
        "# 3 - Agente Redador\n",
        "\n",
        "def agente_redator(topico, plano_gerado):\n",
        "    redator = Agent(\n",
        "        name=\"agente_redator\",\n",
        "        model=\"gemini-2.0-flash\",\n",
        "        description='Agente redator de conteúdos encontrados',\n",
        "        instruction=\"\"\"\n",
        "        Você é um agente redator especializado em cibersegurança. Sua tarefa é transformar o conteúdo selecionado e organizado pelo agente planejador em explicações claras e didáticas sobre o tópico fornecido pelo usuário.\n",
        "        Ao escrever, considere que o público pode ter diferentes níveis de conhecimento em cibersegurança. Utilize uma linguagem simples e evite jargões técnicos sempre que possível. Caso seja necessário usar termos técnicos, forneça explicações concisas.\n",
        "        Seu objetivo principal é garantir que o usuário compreenda o tópico da maneira mais eficaz possível. Para isso, escolha o formato de apresentação mais adequado:\n",
        "        * Para explicações conceituais: Utilize parágrafos claros, exemplos e analogias.\n",
        "        * Para dicas práticas: Use listas de itens ou instruções passo a passo.\n",
        "        * Para definições: Forneça explicações concisas e diretas.\n",
        "        * Se o tópico envolver etapas ou processos: Use listas numeradas ou fluxogramas (se possível em texto).\n",
        "        * Se o tópico se beneficiar de comparações: Utilize tabelas ou listas lado a lado.\n",
        "        Mantenha um tom informativo e acessível. Se relevante e útil, inclua links para fontes confiáveis ou materiais de leitura adicional que possam aprofundar o entendimento sobre o tópico.\n",
        "        \"\"\"\n",
        "        )\n",
        "\n",
        "    entrada_do_agente_redator = f\"Tópico:{topico}\\nPlano gerado: {plano_gerado}\"\n",
        "    conteudo_gerado = call_agent(redator, entrada_do_agente_redator)\n",
        "    return conteudo_gerado"
      ],
      "metadata": {
        "id": "TtT0Z-V-5yF6"
      },
      "execution_count": 223,
      "outputs": []
    },
    {
      "cell_type": "code",
      "source": [
        "# 4 - Agente revisor\n",
        "\n",
        "def agente_revisor(topico, conteudo_gerado):\n",
        "    revisor = Agent(\n",
        "        name=\"agente_revisor\",\n",
        "        model=\"gemini-2.0-flash\",\n",
        "        description='Agente revisor dos conteúdos gerador',\n",
        "        tools=[google_search],\n",
        "        instruction=\"\"\"\n",
        "        Você é um editor e revisor especializado em conteúdos de cibersegurança e segurança da informação. Sua tarefa é analisar o conteúdo gerado pelo agente redator, verificando sua clareza, precisão gramatical, relevância para o tópico fornecido e precisão factual.\n",
        "        Além disso, verifique se a linguagem utilizada é adequada ao público-alvo, se a terminologia é consistente e se a formatação (se houver) contribui para a legibilidade. Certifique-se de que o conteúdo esteja alinhado com as informações e o plano fornecidos pelos agentes buscador e planejador.\n",
        "        Se o conteúdo atender a todos os critérios de revisão, retorne a seguinte mensagem exata: \"O conteúdo está pronto para ser publicado\"\n",
        "        Caso encontre problemas de clareza, gramática, relevância, precisão factual, adequação ao público, consistência ou formatação, destaque os trechos problemáticos e forneça sugestões concisas para correção ou melhoria. Se identificar informações faltantes ou imprecisas que necessitam de verificação, você pode usar a ferramenta de busca para esclarecimentos.\n",
        "        \"\"\"\n",
        "    )\n",
        "\n",
        "    entrada_do_agente_revisor = f\"Tópico:{topico}\\nConteúdo gerado:{conteudo_gerado}\"\n",
        "    conteudo_revisado = call_agent(revisor, entrada_do_agente_revisor)\n",
        "    return conteudo_revisado"
      ],
      "metadata": {
        "id": "CHFXoWzj8CjU"
      },
      "execution_count": 217,
      "outputs": []
    },
    {
      "cell_type": "code",
      "source": [
        "print(\"Bem vindo ao seu especialista de Cibersegurança!\")\n",
        "\n",
        "# Chamar o agente de boas-vindas\n",
        "mensagem_boas_vindas = agente_boas_vindas()\n",
        "print(\"\\n--- Resultado do Agente 0 (Boas Vindas) ---\\n\")\n",
        "display(to_markdown(mensagem_boas_vindas))\n",
        "print(\"------------------------------\")\n",
        "# obter topico do usuario\n",
        "topico = input(\"Por favor, insira um tópico de pesquisa: \")\n",
        "\n",
        "# inserir logica do sistema de agentes\n",
        "if not topico:\n",
        "    print(\"Por favor, insira um tópico de pesquisa.\")\n",
        "else:\n",
        "    print(f\"Ótimo, iremos informar você sobre o {topico} .\")\n",
        "\n",
        "\n",
        "    resultado_buscador = agente_buscador(topico)\n",
        "    print(\"\\n--- Resultado do Agente 1 (buscador) ---\\n\")\n",
        "    display(to_markdown(resultado_buscador))\n",
        "    print(\"------------------------------\")\n",
        "\n",
        "    plano_gerado = agente_planejador(topico, resultado_buscador)\n",
        "    print(\"\\n--- Resultado do Agente 2 (planejador) ---\\n\")\n",
        "    display(to_markdown(plano_gerado))\n",
        "    print(\"------------------------------\")\n",
        "\n",
        "    conteudo_gerado = agente_redator(topico, plano_gerado)\n",
        "    print(\"\\n--- Resultado do Agente 3 (redator) ---\\n\")\n",
        "    display(to_markdown(conteudo_gerado))\n",
        "    print(\"------------------------------\")\n",
        "\n",
        "    conteudo_revisado = agente_revisor(topico, conteudo_gerado)\n",
        "    print(\"\\n--- Resultado do Agente 4 (revisor) ---\\n\")\n",
        "    display(to_markdown(conteudo_revisado))\n",
        "    print(\"------------------------------\")\n",
        "\n",
        "#######\n",
        "    perguntar_quiz = input(\"Gostaria de fazer um quiz sobre o tópico '{}'? (sim/não): \".format(topico)).lower()\n",
        "    if perguntar_quiz == \"sim\":\n",
        "        apresentar_quiz_gemini()\n",
        "\n",
        "print(\"Foi um prazer ajudar! Se tiver mais dúvidas sobre cibersegurança, pode me chamar novamente.\")"
      ],
      "metadata": {
        "colab": {
          "base_uri": "https://localhost:8080/",
          "height": 1000
        },
        "id": "6F4t2JrwEzvo",
        "outputId": "d6193fcf-5848-4d3f-96d5-9b3091b3758e",
        "collapsed": true
      },
      "execution_count": 224,
      "outputs": [
        {
          "output_type": "stream",
          "name": "stdout",
          "text": [
            "Bem vindo ao seu especialista de Cibersegurança!\n",
            "\n",
            "--- Resultado do Agente 0 (Boas Vindas) ---\n",
            "\n"
          ]
        },
        {
          "output_type": "display_data",
          "data": {
            "text/plain": [
              "<IPython.core.display.Markdown object>"
            ],
            "text/markdown": ">Olá! Bem-vindo ao seu especialista em cibersegurança. Posso te ajudar com informações sobre tópicos como phishing, malware, segurança de redes e muito mais. Sobre qual área de cibersegurança você gostaria de saber mais hoje?"
          },
          "metadata": {}
        },
        {
          "output_type": "stream",
          "name": "stdout",
          "text": [
            "------------------------------\n",
            "Por favor, insira um tópico de pesquisa: malware\n",
            "Ótimo, iremos informar você sobre o malware .\n",
            "\n",
            "--- Resultado do Agente 1 (buscador) ---\n",
            "\n"
          ]
        },
        {
          "output_type": "display_data",
          "data": {
            "text/plain": [
              "<IPython.core.display.Markdown object>"
            ],
            "text/markdown": ">Malware, abreviação de \"software malicioso\", refere-se a qualquer tipo de software projetado para causar danos a um dispositivo, sistema ou rede. O malware pode roubar informações confidenciais, danificar sistemas ou interromper operações.\n>\n>  *  *Tipos comuns de malware:  *  *\n>  *     *  *Vírus:  *  * Programas maliciosos que se replicam infectando outros arquivos.\n>  *     *  *Worms:  *  * Semelhantes aos vírus, mas se espalham para outros computadores através de uma rede.\n>  *     *  *Cavalos de Tróia (Trojans):  *  * Disfarçam-se como software legítimo para obter acesso a um sistema e realizar ações maliciosas.\n>  *     *  *Spyware:  *  * Monitora as atividades do usuário e coleta informações confidenciais sem o conhecimento do usuário.\n>  *     *  *Adware:  *  * Exibe anúncios indesejados em um dispositivo infectado, muitas vezes prejudicando o desempenho do sistema.\n>  *     *  *Ransomware:  *  * Criptografa os arquivos de um sistema e exige um resgate para descriptografá-los.\n>  *     *  *Rootkits:  *  * Projetados para esconder sua presença e espiar o usuário, coletando dados.\n>  *     *  *Malware sem arquivos:  *  * Utiliza programas legítimos para infectar um computador, tornando difícil a detecção.\n>  *     *  *Keyloggers:  *  * Registram as teclas digitadas pelo usuário, capturando informações como senhas.\n>  *     *  *Bots e botnets:  *  * Um bot é um computador infectado com malware para ser controlado remotamente e usado para lançar ataques em larga escala.\n>  *     *  *Malvertising:  *  * Distribui conteúdo malicioso através de anúncios online.\n>  *     *  *Bomba lógica:  *  * Código malicioso que é ativado quando uma condição específica é atendida.\n>  *     *  *Scareware:  *  * Tenta enganar o usuário, simulando problemas no sistema para induzi-lo a adquirir software de segurança inútil.\n>\n>  *  *Prevenção contra malware:  *  *\n>  *   Mantenha o software e o sistema operacional atualizados.\n>  *   Instale e mantenha um software antivírus atualizado.\n>  *   Tenha cuidado ao clicar em links ou baixar arquivos de fontes desconhecidas.\n>  *   Use contas de usuário limitadas em vez de contas de administrador.\n>  *   Faça backup de seus dados regularmente.\n>  *   Instale uma firewall.\n>\n>  *  *Análise de malware:  *  *\n>A análise de malware é um componente crítico na defesa contra ameaças cibernéticas. Existem várias técnicas avançadas utilizadas na análise de malware, incluindo:\n>\n>  *     *  *Análise Dinâmica com Sandbox:  *  * Executa o malware em um ambiente controlado e isolado para observar seu comportamento.\n>  *     *  *Engenharia Reversa:  *  * Reverte o código binário do malware para entender seu funcionamento detalhado.\n>  *     *  *Análise de Tráfego de Rede:  *  * Monitora o tráfego de rede gerado pelo malware para identificar comunicações com servidores de comando e controle.\n>  *     *  *Análise Comportamental:  *  * Observa o comportamento do malware em relação ao sistema, analisando chamadas de API e modificações de arquivos.\n>  *     *  *Análise de Código Ofuscado:  *  * Desofuscar o código para expor suas funcionalidades.\n>\n>  *  *Notícias Recentes:  *  *\n>  *   Especialistas encontraram um vírus no iPhone que lê imagens do celular.\n>  *   Um novo malware para Android, \"Crocodilus\", pode assumir o controle de celulares para roubar criptomoedas.\n>  *   Golpes de \"drainer\" de criptomoedas estão sendo vendidos como malware fácil de usar.\n>  *   O grupo de hackers russo ColdRiver está usando um novo malware chamado LostKeys para roubar arquivos de governos ocidentais, jornalistas e ONGs.\n>  *   Um novo malware tem como alvo sites WordPress, disfarçando-se como uma ferramenta de segurança.\n>  *   Um pacote malicioso do PyPi tem como alvo desenvolvedores do Discord com um trojan de acesso remoto desde 2022.\n>  *   Um ataque à cadeia de suprimentos comprometeu um pacote npm, injetando código ofuscado que ativa um trojan de acesso remoto.\n>  *   Um plugin WordPress chamado OttoKit, com mais de 100 mil instalações, foi atingido por malware.\n>  *   O malware DarkGate explorou recentemente uma vulnerabilidade corrigida pela Microsoft em um ataque de dia zero.\n>  *   O Trojan Android Banking PixPirate está usando uma nova tática de evasão para atingir usuários brasileiros.\n>  *   Mais de 38 mil subdomínios FreeDrain foram encontrados explorando SEO para roubar frases iniciais de carteira de criptomoedas.\n>  *   Sites falsificados do Zoom, Skype e Google Meet estão distribuindo malware.\n>  *   Hackers exploram servidores mal configurados de YARN, Docker, Confluence, Redis para mineração de cripto.\n>\n>A CISA (Cybersecurity and Infrastructure Security Agency) lançou um sistema de análise de malware de última geração para uso público, permitindo que organizações e indivíduos analisem automaticamente arquivos e URLs potencialmente maliciosos.\n"
          },
          "metadata": {}
        },
        {
          "output_type": "stream",
          "name": "stdout",
          "text": [
            "------------------------------\n",
            "\n",
            "--- Resultado do Agente 2 (planejador) ---\n",
            "\n"
          ]
        },
        {
          "output_type": "display_data",
          "data": {
            "text/plain": [
              "<IPython.core.display.Markdown object>"
            ],
            "text/markdown": ">O conteúdo buscado apresenta uma visão geral completa sobre malware, abordando desde a definição e os tipos mais comuns até as técnicas de prevenção e análise. As notícias recentes ilustram a variedade e a constante evolução das ameaças de malware no cenário atual.\n>\n>  *  *Principais pontos e conceitos:  *  *\n>\n>  *     *  *Definição:  *  * Software malicioso projetado para causar danos a dispositivos, sistemas ou redes, incluindo roubo de informações, danificação de sistemas ou interrupção de operações.\n>  *     *  *Tipos Comuns de Malware:  *  *\n>      *   Vírus, Worms, Trojans, Spyware, Adware, Ransomware, Rootkits, Malware sem arquivos, Keyloggers, Bots e botnets, Malvertising, Bomba lógica, Scareware.\n>  *     *  *Prevenção:  *  *\n>      *   Manter software e sistema operacional atualizados, usar antivírus, ter cuidado com links e downloads, usar contas de usuário limitadas, fazer backup de dados, instalar firewall.\n>  *     *  *Análise de Malware:  *  *\n>      *   Análise Dinâmica com Sandbox, Engenharia Reversa, Análise de Tráfego de Rede, Análise Comportamental, Análise de Código Ofuscado.\n>  *     *  *Notícias Recentes:  *  *\n>      *   Exemplos de ataques e novas variantes de malware direcionados a diferentes plataformas e alvos, incluindo dispositivos móveis, sites WordPress, criptomoedas e governos.\n>  *     *  *Recursos:  *  *\n>      *   A CISA (Cybersecurity and Infrastructure Security Agency) lançou um sistema de análise de malware de última geração para uso público."
          },
          "metadata": {}
        },
        {
          "output_type": "stream",
          "name": "stdout",
          "text": [
            "------------------------------\n",
            "\n",
            "--- Resultado do Agente 3 (redator) ---\n",
            "\n"
          ]
        },
        {
          "output_type": "display_data",
          "data": {
            "text/plain": [
              "<IPython.core.display.Markdown object>"
            ],
            "text/markdown": ">## Malware: Entenda o que é, como funciona e como se proteger\n>\n>Malware é um termo abrangente para qualquer tipo de software criado com o objetivo de causar danos a um computador, rede ou sistema. Imagine um vírus que ataca seu corpo, mas no mundo digital. Esses programas maliciosos podem roubar informações, danificar arquivos, interromper operações e muito mais.\n>\n>### Tipos Comuns de Malware\n>\n>Existem diversos tipos de malware, cada um com suas próprias características e formas de atuação:\n>\n>  *     *  *Vírus:  *  * Assim como um vírus biológico, ele se replica e se espalha infectando outros arquivos. Precisa da ação do usuário para se propagar.\n>  *     *  *Worms (Vermes):  *  * Semelhantes aos vírus, mas se espalham automaticamente através de redes, explorando vulnerabilidades.\n>  *     *  *Trojans (Cavalos de Troia):  *  * Disfarçam-se como programas legítimos para enganar o usuário e abrir portas para outras ameaças.\n>  *     *  *Spyware (Programas Espiões):  *  * Monitoram suas atividades online, coletam informações pessoais e as enviam para terceiros.\n>  *     *  *Adware (Programas de Publicidade):  *  * Exibem anúncios indesejados e podem redirecionar você para sites maliciosos.\n>  *     *  *Ransomware (Software de Resgate):  *  * Criptografam seus arquivos e exigem um resgate para devolvê-los.\n>  *     *  *Rootkits:  *  * Dão acesso não autorizado ao sistema, permitindo que outros malwares se escondam e atuem sem serem detectados.\n>  *     *  *Malware sem arquivos:  *  * Vivem na memória do computador, tornando-se difíceis de detectar e remover.\n>  *     *  *Keyloggers:  *  * Registram tudo o que você digita, incluindo senhas e informações confidenciais.\n>  *     *  *Bots e botnets:  *  * Um bot é um programa que infecta um computador e o controla remotamente. Vários computadores infectados formam uma botnet, usada para ataques em larga escala.\n>  *     *  *Malvertising:  *  * Malware disseminado através de anúncios online aparentemente inofensivos.\n>  *     *  *Bomba lógica:  *  * Código malicioso que é ativado quando uma condição específica é atendida, como uma data ou ação do usuário.\n>  *     *  *Scareware:  *  * Assusta o usuário com falsos alertas de segurança, induzindo-o a comprar um software inútil ou malicioso.\n>\n>### Como se proteger de malware\n>\n>A prevenção é a melhor defesa contra malware. Aqui estão algumas dicas importantes:\n>\n>  *     *  *Mantenha seu software e sistema operacional atualizados:  *  * As atualizações corrigem falhas de segurança que os malwares podem explorar.\n>  *     *  *Use um antivírus:  *  * Um bom antivírus pode detectar e remover malware antes que ele cause danos.\n>  *     *  *Tenha cuidado com links e downloads:  *  * Não clique em links suspeitos ou baixe arquivos de fontes não confiáveis.\n>  *     *  *Use contas de usuário limitadas:  *  * Isso impede que o malware faça alterações drásticas no sistema.\n>  *     *  *Faça backup de seus dados:  *  * Se você for infectado por ransomware, poderá restaurar seus arquivos a partir do backup.\n>  *     *  *Instale um firewall:  *  * Um firewall ajuda a bloquear o acesso não autorizado ao seu computador.\n>\n>### Análise de Malware: Detetives Digitais em Ação\n>\n>Quando um novo malware surge, especialistas em segurança cibernética precisam analisá-lo para entender como funciona e como combatê-lo. Eles usam diversas técnicas:\n>\n>  *     *  *Análise Dinâmica com Sandbox:  *  * Executam o malware em um ambiente isolado (sandbox) para observar seu comportamento sem risco para o sistema real.\n>  *     *  *Engenharia Reversa:  *  * Desmontam o código do malware para entender sua estrutura e funcionalidade.\n>  *     *  *Análise de Tráfego de Rede:  *  * Monitoram a comunicação do malware com outros computadores para identificar servidores de comando e controle.\n>  *     *  *Análise Comportamental:  *  * Observam as ações do malware no sistema, como criação de arquivos, modificação de registros e comunicação com outros processos.\n>  *     *  *Análise de Código Ofuscado:  *  * Decifram o código do malware para revelar sua verdadeira função, mesmo que esteja disfarçado.\n>\n>### Malware em notícias\n>\n>O mundo do malware está em constante evolução. Ataques recentes têm como alvo desde dispositivos móveis até grandes empresas e governos. É importante estar ciente das últimas ameaças para se proteger adequadamente.\n>\n>  *  *Recursos:  *  *\n>\n>  *   A CISA (Cybersecurity and Infrastructure Security Agency) oferece um sistema de análise de malware de última geração para uso público, ajudando a fortalecer a defesa cibernética."
          },
          "metadata": {}
        },
        {
          "output_type": "stream",
          "name": "stdout",
          "text": [
            "------------------------------\n",
            "\n",
            "--- Resultado do Agente 4 (revisor) ---\n",
            "\n"
          ]
        },
        {
          "output_type": "display_data",
          "data": {
            "text/plain": [
              "<IPython.core.display.Markdown object>"
            ],
            "text/markdown": ">O conteúdo está pronto para ser publicado"
          },
          "metadata": {}
        },
        {
          "output_type": "stream",
          "name": "stdout",
          "text": [
            "------------------------------\n",
            "Gostaria de fazer um quiz sobre o tópico 'malware'? (sim/não): nao\n",
            "Foi um prazer ajudar! Se tiver mais dúvidas sobre cibersegurança, pode me chamar novamente.\n"
          ]
        }
      ]
    },
    {
      "cell_type": "code",
      "source": [
        "prompt = input(\"Usuário: \")\n",
        "\n",
        "while prompt.lower() != \"tchau\":\n",
        "    try:\n",
        "        resposta = chat.send_message(prompt)\n",
        "        print(\"Chatbot:\", resposta.text)\n",
        "    except Exception as e:\n",
        "        print(f\"Chatbot: Desculpe, ocorreu um erro ao processar sua mensagem: {e}\")\n",
        "        print(\"Por favor, tente novamente ou diga 'tchau' para encerrar.\")\n",
        "    prompt = input(\"Usuário: \")\n",
        "\n",
        "print(\"Foi um prazer ajudar! Se tiver mais dúvidas sobre cibersegurança, pode me chamar novamente.\")"
      ],
      "metadata": {
        "colab": {
          "base_uri": "https://localhost:8080/"
        },
        "id": "DKdp4BsY9DtH",
        "outputId": "4bc9527f-1674-4315-e941-63e8678f7f2c",
        "collapsed": true
      },
      "execution_count": 212,
      "outputs": [
        {
          "output_type": "stream",
          "name": "stdout",
          "text": [
            "Usuário: tchau\n",
            "Foi um prazer ajudar! Se tiver mais dúvidas sobre cibersegurança, pode me chamar novamente.\n"
          ]
        }
      ]
    },
    {
      "cell_type": "code",
      "source": [
        "modelo = \"gemini-2.0-flash\"\n",
        "\n",
        "resposta = client.models.generate_content(model=modelo,\n",
        "                                          contents=\"o que é malwarel?\")"
      ],
      "metadata": {
        "id": "60VX-DlVnBll"
      },
      "execution_count": null,
      "outputs": []
    },
    {
      "cell_type": "code",
      "source": [
        "chat = client.chats.create(model=modelo)\n",
        "resposta = chat.send_message(\"Olá, bem vindo ao assistente de Cibersegurança\")\n",
        "\n",
        "resposta.text"
      ],
      "metadata": {
        "colab": {
          "base_uri": "https://localhost:8080/",
          "height": 87
        },
        "id": "ErOiGX2mowz6",
        "outputId": "59c4c973-2f6b-4825-92e6-323a6f512e07",
        "collapsed": true
      },
      "execution_count": null,
      "outputs": [
        {
          "output_type": "execute_result",
          "data": {
            "text/plain": [
              "'Olá! É um prazer estar aqui para ajudar com suas dúvidas e necessidades em cibersegurança. \\n\\nEm que posso ser útil hoje? Seja específico sobre o que você precisa para que eu possa fornecer a melhor informação possível. Por exemplo:\\n\\n*   Você quer saber mais sobre um ataque cibernético específico?\\n*   Precisa de ajuda para proteger seus dispositivos?\\n*   Gostaria de dicas de segurança para navegar na internet?\\n*   Quer entender melhor alguma lei ou regulamentação sobre proteção de dados?\\n\\nEstou pronto para te auxiliar!\\n'"
            ],
            "application/vnd.google.colaboratory.intrinsic+json": {
              "type": "string"
            }
          },
          "metadata": {},
          "execution_count": 70
        }
      ]
    },
    {
      "cell_type": "code",
      "source": [
        "#Perguntar ao Gemni uma informação mais recente que seu conhecimento\n",
        "\n",
        "from IPython.display import HTML, Markdown\n",
        "\n",
        "#perguntar pro modelo quando é a proxima sobre algo atual\n",
        "resposta = client.models.generate_content(\n",
        "    model=modelo,\n",
        "    contents=\"Quando foi o último ataque de Ransomware que mais pagou resgaste em 2025?\",\n",
        "    config={\"tools\": [{\"google_search\":{}}]}\n",
        ")\n",
        "#print da resposta\n",
        "display(Markdown(f\"Response:\\n {resposta.text}\"))"
      ],
      "metadata": {
        "colab": {
          "base_uri": "https://localhost:8080/",
          "height": 292
        },
        "collapsed": true,
        "id": "T8uQSex64rj6",
        "outputId": "fd92382a-1256-41f6-8eda-2416c9078fae"
      },
      "execution_count": null,
      "outputs": [
        {
          "output_type": "display_data",
          "data": {
            "text/plain": [
              "<IPython.core.display.Markdown object>"
            ],
            "text/markdown": "Response:\n Para responder a sua pergunta sobre o ataque de ransomware mais caro de 2025, preciso realizar uma pesquisa atualizada.\n\nCom base nas informações mais recentes até o primeiro trimestre de 2025, não há um ataque de ransomware único que se destaque como o mais caro em termos de resgate pago. No entanto, posso fornecer alguns dados relevantes e tendências observadas nesse período:\n\n*   **Crescimento dos ataques:** Os ataques de ransomware aumentaram significativamente no primeiro trimestre de 2025, com um aumento de 126% em relação ao ano anterior.\n*   **Resgates:** A média dos pagamentos de resgate também aumentou, ultrapassando 1,3 milhão de libras (aproximadamente US$ 1,6 milhão).\n*   **Grupos notórios:** Grupos como Cl0p, LockBit 3.0 e BlackCat (ALPHV) estão entre os mais ativos e perigosos, com o LockBit sendo responsável por mais de 1.400 ataques apenas no primeiro trimestre.\n*   **Alvos:** Os ataques estão se tornando mais sofisticados e direcionados, afetando setores como saúde, manufatura, educação e governo. O Brasil também tem sido um alvo frequente, registrando um número elevado de ataques.\n*   **Tendências:** Há uma crescente profissionalização dos criminosos, com o uso de modelos de \"Ransomware como Serviço\" (RaaS), dupla extorsão (criptografia e ameaça de vazamento de dados) e táticas de engenharia social.\n\nEmbora não seja possível apontar o ataque mais caro especificamente, os relatórios indicam que os valores dos resgates estão aumentando e que os ataques estão se tornando mais frequentes e impactantes.\n"
          },
          "metadata": {}
        }
      ]
    },
    {
      "cell_type": "code",
      "source": [],
      "metadata": {
        "id": "fMi-m-kp7gb4"
      },
      "execution_count": null,
      "outputs": []
    },
    {
      "cell_type": "code",
      "source": [
        "from google.genai import types\n",
        "\n",
        "chat_config = types.GenerateContentConfig(system_instruction= \"Você é um assistente de Cibersegurança que consegue responder de forma sucinta e didática\")\n",
        "\n",
        "chat= client.chats.create(model=modelo,\n",
        "                          config=chat_config)\n"
      ],
      "metadata": {
        "id": "tTyZWQSRrFer"
      },
      "execution_count": null,
      "outputs": []
    },
    {
      "cell_type": "code",
      "source": [
        "prompt_usuario = input(\"Usuário: \")\n",
        "prompt_gemini = f\"{prompt_usuario}. Forneça uma explicação detalhada, incluindo dicas práticas, exemplos e, se possível, links para recursos confiáveis sobre este tópico.\"\n",
        "resposta = chat.send_message(prompt_gemini)\n",
        "print(\"Chatbot:\", resposta.text)"
      ],
      "metadata": {
        "colab": {
          "base_uri": "https://localhost:8080/"
        },
        "collapsed": true,
        "id": "lGrOfEXJ8QhZ",
        "outputId": "d2775fc6-7111-44da-fd50-4509abfa7612"
      },
      "execution_count": null,
      "outputs": [
        {
          "output_type": "stream",
          "name": "stdout",
          "text": [
            "Usuário: forneça links sobre malware\n",
            "Chatbot: Com prazer! Vamos mergulhar no mundo do malware.\n",
            "\n",
            "**O que é Malware?**\n",
            "\n",
            "Malware é um termo genérico para software malicioso projetado para causar danos a um computador, rede ou sistema. O objetivo pode variar desde roubar dados, espionar atividades online, danificar arquivos, até mesmo assumir o controle do sistema.\n",
            "\n",
            "**Tipos Comuns de Malware:**\n",
            "\n",
            "*   **Vírus:** Se propagam infectando arquivos e se replicando. Precisam de um hospedeiro para se espalhar.\n",
            "*   **Worms:** Se replicam e se espalham automaticamente através de redes, sem precisar de um hospedeiro.\n",
            "*   **Trojans (Cavalos de Troia):** Disfarçam-se como software legítimo, mas executam atividades maliciosas em segundo plano.\n",
            "*   **Ransomware:** Criptografam os arquivos da vítima e exigem um resgate para descriptografá-los.\n",
            "*   **Spyware:** Coletam informações sobre a vítima sem o seu conhecimento e as enviam para terceiros.\n",
            "*   **Adware:** Exibem anúncios indesejados e podem coletar dados sobre os hábitos de navegação da vítima.\n",
            "*   **Keyloggers:** Registram as teclas digitadas pela vítima, permitindo roubo de senhas e outras informações confidenciais.\n",
            "*   **Rootkits:** Projetados para esconder a presença de malware no sistema, tornando a detecção mais difícil.\n",
            "\n",
            "**Como o Malware se Espalha?**\n",
            "\n",
            "*   **E-mails de phishing:** Anexos ou links maliciosos em e-mails que se passam por mensagens legítimas.\n",
            "*   **Downloads de software não confiáveis:** Baixar programas de sites não oficiais ou torrents.\n",
            "*   **Sites comprometidos:** Visitar sites que foram infectados com código malicioso.\n",
            "*   **Dispositivos removíveis:** Pen drives, HDs externos infectados.\n",
            "*   **Redes Wi-Fi públicas não seguras:** Conectar-se a redes Wi-Fi sem proteção.\n",
            "*   **Vulnerabilidades de software:** Falhas de segurança em sistemas operacionais e aplicativos.\n",
            "\n",
            "**Dicas Práticas e Acionáveis para se Proteger contra Malware:**\n",
            "\n",
            "1.  **Mantenha o software atualizado:**\n",
            "    *   **Ação:** Ative as atualizações automáticas do sistema operacional, navegadores e aplicativos.\n",
            "    *   **Por quê:** As atualizações corrigem falhas de segurança exploradas por malware.\n",
            "2.  **Use um antivírus confiável:**\n",
            "    *   **Ação:** Instale um antivírus de boa reputação e mantenha-o atualizado.\n",
            "    *   **Por quê:** O antivírus detecta e remove malware conhecido.\n",
            "3.  **Seja cauteloso com e-mails e anexos:**\n",
            "    *   **Ação:** Não abra anexos ou clique em links de remetentes desconhecidos ou suspeitos.\n",
            "    *   **Por quê:** Phishing é uma das principais formas de disseminação de malware.\n",
            "4.  **Baixe software apenas de fontes confiáveis:**\n",
            "    *   **Ação:** Baixe programas apenas de sites oficiais dos desenvolvedores ou de lojas de aplicativos confiáveis.\n",
            "    *   **Por quê:** Software pirata ou de fontes não confiáveis pode conter malware.\n",
            "5.  **Use senhas fortes e autenticação de dois fatores:**\n",
            "    *   **Ação:** Use senhas longas, complexas e diferentes para cada conta. Ative a autenticação de dois fatores sempre que possível.\n",
            "    *   **Por quê:** Senhas fortes e 2FA dificultam o acesso não autorizado às suas contas.\n",
            "6.  **Cuidado com dispositivos removíveis:**\n",
            "    *   **Ação:** Escaneie pen drives e HDs externos com seu antivírus antes de usá-los.\n",
            "    *   **Por quê:** Dispositivos removíveis podem estar infectados com malware.\n",
            "7.  **Mantenha o firewall ativado:**\n",
            "    *   **Ação:** Verifique se o firewall do seu sistema operacional está ativado.\n",
            "    *   **Por quê:** O firewall ajuda a bloquear conexões não autorizadas.\n",
            "8.  **Faça backups regulares dos seus dados:**\n",
            "    *   **Ação:** Faça backups dos seus arquivos importantes em um local seguro (nuvem ou disco externo).\n",
            "    *   **Por quê:** Em caso de ataque de ransomware ou outro tipo de malware, você poderá restaurar seus dados.\n",
            "9.  **Esteja atento a comportamentos estranhos:**\n",
            "    *   **Ação:** Preste atenção a sinais como lentidão excessiva, travamentos frequentes, pop-ups inesperados ou alterações na página inicial do navegador.\n",
            "    *   **Por quê:** Esses sinais podem indicar que seu computador está infectado.\n",
            "10. **Eduque-se sobre as últimas ameaças:**\n",
            "    *   **Ação:** Mantenha-se informado sobre as últimas tendências em malware e golpes online.\n",
            "    *   **Por quê:** O conhecimento é a sua melhor defesa.\n",
            "\n",
            "**Exemplos de Cenários Comuns:**\n",
            "\n",
            "*   **Recebimento de um e-mail falso do seu banco:** O e-mail pede para você clicar em um link e atualizar suas informações de segurança. O link leva a um site falso que rouba suas credenciais.\n",
            "    *   **Ação:** Não clique no link. Entre em contato com o seu banco por telefone ou através do site oficial para verificar a autenticidade do e-mail.\n",
            "*   **Download de um programa \"gratuito\" de um site desconhecido:** O programa parece funcionar normalmente, mas instala malware no seu computador em segundo plano.\n",
            "    *   **Ação:** Desinstale o programa imediatamente e execute uma verificação completa com seu antivírus.\n",
            "*   **Conectar um pen drive encontrado na rua ao seu computador:** O pen drive está infectado com um vírus que se espalha para o seu sistema.\n",
            "    *   **Ação:** Não conecte pen drives desconhecidos ao seu computador.\n",
            "\n",
            "**Recursos Confiáveis:**\n",
            "\n",
            "*   **CERT.br (Centro de Estudos, Resposta e Tratamento de Incidentes de Segurança no Brasil):** [https://www.cert.br/](https://www.cert.br/)\n",
            "    *   Oferece informações e alertas sobre segurança na internet, incluindo malware.\n",
            "*   **Kaspersky Threat Encyclopedia:** [https://threats.kaspersky.com/en/](https://threats.kaspersky.com/en/)\n",
            "    *   Uma enciclopédia abrangente sobre diferentes tipos de malware, com descrições detalhadas e informações sobre como se proteger.\n",
            "*   **NIST (National Institute of Standards and Technology):** [https://www.nist.gov/](https://www.nist.gov/)\n",
            "    *   Oferece guias e padrões de segurança cibernética, incluindo informações sobre malware.\n",
            "*   **Agência Nacional de Segurança Cibernética (ANSSI):** [https://www.gov.br/ans/pt-br](https://www.gov.br/ans/pt-br)\n",
            "\n",
            "Espero que esta explicação detalhada e os links úteis te ajudem a entender melhor o malware e a se proteger contra ele. Se tiver mais alguma dúvida, é só perguntar!\n",
            "\n"
          ]
        }
      ]
    },
    {
      "cell_type": "code",
      "source": [
        "chat.get_history()"
      ],
      "metadata": {
        "colab": {
          "base_uri": "https://localhost:8080/"
        },
        "collapsed": true,
        "id": "o4TFycdKxw7q",
        "outputId": "b847aa7d-0abf-42ec-a104-a2a9a3090c13"
      },
      "execution_count": null,
      "outputs": [
        {
          "output_type": "execute_result",
          "data": {
            "text/plain": [
              "[UserContent(parts=[Part(video_metadata=None, thought=None, inline_data=None, code_execution_result=None, executable_code=None, file_data=None, function_call=None, function_response=None, text='o que é o misp?')], role='user'),\n",
              " Content(parts=[Part(video_metadata=None, thought=None, inline_data=None, code_execution_result=None, executable_code=None, file_data=None, function_call=None, function_response=None, text='O MISP (Malware Information Sharing Platform) é uma plataforma de código aberto para **compartilhamento de informações sobre ameaças cibernéticas**, incluindo indicadores de comprometimento (IoCs), análise de malware e informações sobre incidentes de segurança.\\n\\n**Em termos simples:**\\n\\n*   É como uma rede social para profissionais de segurança cibernética.\\n*   Permite que as organizações compartilhem informações sobre ameaças de forma estruturada e automatizada.\\n*   Ajuda a melhorar a detecção, prevenção e resposta a incidentes de segurança.\\n\\n**Benefícios:**\\n\\n*   **Compartilhamento de informações:** Facilita a troca de inteligência sobre ameaças entre organizações.\\n*   **Padronização:** Utiliza formatos de dados padronizados para garantir a interoperabilidade.\\n*   **Automação:** Permite a integração com outras ferramentas de segurança para automatizar a detecção e resposta a ameaças.\\n*   **Comunidade:** Forte comunidade de usuários e desenvolvedores que contribuem para a plataforma.\\n\\n**Em resumo, o MISP é uma ferramenta poderosa para fortalecer a postura de segurança cibernética de uma organização, permitindo que ela se beneficie do conhecimento e da experiência de outras pessoas.**\\n')], role='model'),\n",
              " UserContent(parts=[Part(video_metadata=None, thought=None, inline_data=None, code_execution_result=None, executable_code=None, file_data=None, function_call=None, function_response=None, text='fim')], role='user'),\n",
              " Content(parts=[Part(video_metadata=None, thought=None, inline_data=None, code_execution_result=None, executable_code=None, file_data=None, function_call=None, function_response=None, text='Ok, se precisar de algo mais sobre MISP ou qualquer outro tópico de cibersegurança, é só chamar! 😊\\n')], role='model'),\n",
              " UserContent(parts=[Part(video_metadata=None, thought=None, inline_data=None, code_execution_result=None, executable_code=None, file_data=None, function_call=None, function_response=None, text='sair')], role='user'),\n",
              " Content(parts=[Part(video_metadata=None, thought=None, inline_data=None, code_execution_result=None, executable_code=None, file_data=None, function_call=None, function_response=None, text='Até a próxima! 👋\\n')], role='model')]"
            ]
          },
          "metadata": {},
          "execution_count": 32
        }
      ]
    }
  ]
}
